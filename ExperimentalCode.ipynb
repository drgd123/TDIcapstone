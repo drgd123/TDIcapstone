{
 "cells": [
  {
   "cell_type": "code",
   "execution_count": 1,
   "metadata": {},
   "outputs": [],
   "source": [
    "import seaborn as sns\n",
    "sns.set()"
   ]
  },
  {
   "cell_type": "code",
   "execution_count": 2,
   "metadata": {},
   "outputs": [],
   "source": [
    "import pandas as pd\n",
    "import numpy as np\n",
    "import xlrd"
   ]
  },
  {
   "cell_type": "code",
   "execution_count": 3,
   "metadata": {},
   "outputs": [
    {
     "data": {
      "text/plain": [
       "'/usr/local/bin/TDI-capston'"
      ]
     },
     "execution_count": 3,
     "metadata": {},
     "output_type": "execute_result"
    }
   ],
   "source": [
    "import os\n",
    "os.getcwd()"
   ]
  },
  {
   "cell_type": "code",
   "execution_count": null,
   "metadata": {},
   "outputs": [],
   "source": [
    "df_inflow = pd.read_excel('/usr/local/bin/TDI-capston/DataFiles/county-to-county-2014-2018-current-residence-sort.xlsx',sheet_name=None,header=[1,2,3])"
   ]
  },
  {
   "cell_type": "code",
   "execution_count": null,
   "metadata": {},
   "outputs": [],
   "source": [
    "df_outflow = pd.read_excel('/usr/local/bin/TDI-capston/DataFiles/county-to-county-2014-2018-ins-outs-nets-gross.xlsx',sheet_name=None,header=[1,2,3])"
   ]
  },
  {
   "cell_type": "code",
   "execution_count": null,
   "metadata": {},
   "outputs": [],
   "source": [
    "df_netflow1 = pd.read_excel('/usr/local/bin/TDI-capston/DataFiles/county-to-county-2014-2018-previous-residence-sort.xlsx',sheet_name=None,header=[1,2,3])"
   ]
  },
  {
   "cell_type": "code",
   "execution_count": null,
   "metadata": {},
   "outputs": [],
   "source": [
    "df_inflow = pd.concat(df_inflow)"
   ]
  },
  {
   "cell_type": "code",
   "execution_count": null,
   "metadata": {},
   "outputs": [],
   "source": [
    "df_outflow = pd.concat(df_outflow)"
   ]
  },
  {
   "cell_type": "code",
   "execution_count": 4,
   "metadata": {},
   "outputs": [],
   "source": [
    "#USE THIS\n",
    "\n",
    "df_netflow = pd.read_excel('/usr/local/bin/TDI-capston/DataFiles/county-to-county-2014-2018-ins-outs-nets-gross-TESTNEWHEADINGS.xlsx',sheet_name=None,header=[1])"
   ]
  },
  {
   "cell_type": "code",
   "execution_count": 5,
   "metadata": {},
   "outputs": [],
   "source": [
    "#USE THIS\n",
    "\n",
    "df_netflow = pd.concat(df_netflow)"
   ]
  },
  {
   "cell_type": "code",
   "execution_count": null,
   "metadata": {},
   "outputs": [],
   "source": [
    "#USE THIS someimes\n",
    "df_netflow"
   ]
  },
  {
   "cell_type": "code",
   "execution_count": null,
   "metadata": {},
   "outputs": [],
   "source": [
    "for sheet in df_inflow:\n",
    "    print(sheet)# ['Municipio/County of Current Residence'].iloc[4806]"
   ]
  },
  {
   "cell_type": "code",
   "execution_count": null,
   "metadata": {},
   "outputs": [],
   "source": [
    "test = pd.read_excel('/usr/local/bin/TDI-capston/DataFiles/county-to-county-2014-2018-ins-outs-nets-gross-TESTNEWHEADINGS.xlsx',sheet_name=\"Alabama\",header=[1])"
   ]
  },
  {
   "cell_type": "code",
   "execution_count": null,
   "metadata": {},
   "outputs": [],
   "source": [
    "test.head()"
   ]
  },
  {
   "cell_type": "code",
   "execution_count": null,
   "metadata": {},
   "outputs": [],
   "source": [
    "list_of_states = ['Alabama', 'Alaska', 'Arizona', 'Arkansas', 'California', 'Colorado', 'Connecticut', 'Delaware', 'District of Columbia', 'Florida', 'Georgia', 'Hawaii', 'Idaho', 'Illinois', 'Indiana', 'Iowa', 'Kansas', 'Kentucky', 'Louisiana', 'Maine', 'Maryland', 'Massachusetts', 'Michigan', 'Minnesota', 'Mississippi', 'Missouri', 'Montana', 'Nebraska', 'Nevada', 'New Hampshire', 'New Jersey', 'New Mexico', 'New York', 'North Carolina', 'North Dakota', 'Ohio', 'Oklahoma', 'Oregon', 'Pennsylvania', 'Puerto Rico', 'Rhode Island', 'South Carolina', 'South Dakota', 'Tennessee', 'Texas', 'Utah', 'Vermont', 'Virginia', 'Washington', 'West Virginia', 'Wisconsin', 'Wyoming']"
   ]
  },
  {
   "cell_type": "code",
   "execution_count": null,
   "metadata": {},
   "outputs": [],
   "source": [
    "netflow_DFs = dict()\n",
    "netflow_DFs['Alabama'] = pd.read_excel('/usr/local/bin/TDI-capston/DataFiles/county-to-county-2014-2018-ins-outs-nets-gross-TESTNEWHEADINGS.xlsx',sheet_name='Alabama',header=[1])"
   ]
  },
  {
   "cell_type": "code",
   "execution_count": null,
   "metadata": {},
   "outputs": [],
   "source": [
    "netflow_DFs = dict()\n",
    "for sheet in list_of_states:\n",
    "    netflow_DFs[sheet] = pd.read_excel('/usr/local/bin/TDI-capston/DataFiles/county-to-county-2014-2018-ins-outs-nets-gross-TESTNEWHEADINGS.xlsx',sheet_name=sheet,header=[1])"
   ]
  },
  {
   "cell_type": "code",
   "execution_count": null,
   "metadata": {},
   "outputs": [],
   "source": [
    "netflow_DFs['Puerto Rico'].head()"
   ]
  },
  {
   "cell_type": "code",
   "execution_count": 6,
   "metadata": {},
   "outputs": [],
   "source": [
    "#USE THIS\n",
    "\n",
    "costofliving = pd.read_excel('/usr/local/bin/TDI-capston/DataFiles/urbanareas-costofliving.xls',header=[3])"
   ]
  },
  {
   "cell_type": "code",
   "execution_count": null,
   "metadata": {},
   "outputs": [],
   "source": [
    "#USE THIS sometimes\n",
    "costofliving"
   ]
  },
  {
   "cell_type": "code",
   "execution_count": 7,
   "metadata": {},
   "outputs": [],
   "source": [
    "#USE THIS\n",
    "msa_info = pd.read_csv('/usr/local/bin/TDI-capston/DataFiles/Revised_core_based_statistical_area_for_the_US__Sept__2018.csv')"
   ]
  },
  {
   "cell_type": "code",
   "execution_count": null,
   "metadata": {},
   "outputs": [],
   "source": [
    "#USE THIS sometimes\n",
    "msa_info"
   ]
  },
  {
   "cell_type": "code",
   "execution_count": 8,
   "metadata": {},
   "outputs": [],
   "source": [
    "#USE THIS\n",
    "df1 = msa_info[['STATEFP','COUNTYFP','NAME','CBSA_TITLE','INTPTLAT','INTPTLON']]\n",
    "df2 = costofliving\n",
    "df2.rename(columns={'Urban Area':'CBSA_TITLE'}, inplace=True)"
   ]
  },
  {
   "cell_type": "code",
   "execution_count": 9,
   "metadata": {},
   "outputs": [],
   "source": [
    "#USE THIS\n",
    "df3 = df1.merge(df2, on='CBSA_TITLE', how='inner')"
   ]
  },
  {
   "cell_type": "code",
   "execution_count": null,
   "metadata": {},
   "outputs": [],
   "source": [
    "#USE THIS sometimes\n",
    "df3"
   ]
  },
  {
   "cell_type": "code",
   "execution_count": 10,
   "metadata": {},
   "outputs": [],
   "source": [
    "#USE THIS\n",
    "df3_A = df3.copy(deep=True)\n",
    "df3_B = df3.copy(deep=True)"
   ]
  },
  {
   "cell_type": "code",
   "execution_count": null,
   "metadata": {},
   "outputs": [],
   "source": [
    "#USE THIS sometimes\n",
    "df3_B"
   ]
  },
  {
   "cell_type": "code",
   "execution_count": 11,
   "metadata": {},
   "outputs": [],
   "source": [
    "#USE THIS \n",
    "cols_A = {'COUNTYFP':'FIPS County Code of Geography A',}\n",
    "\n",
    "df3_A.rename(columns={'COUNTYFP':'FIPS County Code of Geography A'}, inplace=True)\n",
    "df3_A.rename(columns={'INTPTLAT':'INTPTLAT_A'}, inplace=True)\n",
    "df3_A.rename(columns={'INTPTLON':'INTPTLON_A'}, inplace=True)\n",
    "df3_A = df3_A.dropna().astype({'FIPS County Code of Geography A': int}) \n"
   ]
  },
  {
   "cell_type": "code",
   "execution_count": null,
   "metadata": {},
   "outputs": [],
   "source": [
    "df3_A"
   ]
  },
  {
   "cell_type": "code",
   "execution_count": null,
   "metadata": {},
   "outputs": [],
   "source": [
    "df3"
   ]
  },
  {
   "cell_type": "code",
   "execution_count": 12,
   "metadata": {
    "scrolled": true
   },
   "outputs": [],
   "source": [
    "#USE THIS\n",
    "df3_B.rename(columns={'COUNTYFP':'FIPS County Code of Geography B'}, inplace=True) \n",
    "df3_B.rename(columns={'INTPTLAT':'INTPTLAT_B'}, inplace=True)\n",
    "df3_B.rename(columns={'INTPTLON':'INTPTLON_B'}, inplace=True)\n",
    "df3_B= df3_B.dropna().astype({'FIPS County Code of Geography B': int}) "
   ]
  },
  {
   "cell_type": "code",
   "execution_count": null,
   "metadata": {},
   "outputs": [],
   "source": [
    "df3_B"
   ]
  },
  {
   "cell_type": "code",
   "execution_count": 13,
   "metadata": {},
   "outputs": [],
   "source": [
    "#USE THIS\n",
    "headers_precalculations = [\"State Code of Geography A\",\"FIPS County Code of Geography A\",\"State Name of Geography A\",\n",
    "           \"State/U.S. Island Area/Foreign Region Code of Geography B\",\"FIPS County Code of Geography B\",\n",
    "           \"State/U.S. Island Area/Foreign Region of Geography B\",\n",
    "           \"Net Migration from Geography B to Geography A Estimate\"]\n",
    "\n",
    "df4 = df_netflow[headers_precalculations]"
   ]
  },
  {
   "cell_type": "code",
   "execution_count": 14,
   "metadata": {},
   "outputs": [],
   "source": [
    "#USE THIS\n",
    "convert_dict = {'FIPS County Code of Geography A': int, \n",
    "                'FIPS County Code of Geography B': int\n",
    "               } \n",
    "  \n",
    "df4 = df4.dropna().astype(convert_dict) "
   ]
  },
  {
   "cell_type": "code",
   "execution_count": null,
   "metadata": {
    "scrolled": true
   },
   "outputs": [],
   "source": [
    "#USE THIS sometimes\n",
    "df4"
   ]
  },
  {
   "cell_type": "code",
   "execution_count": 15,
   "metadata": {},
   "outputs": [],
   "source": [
    "#USE THIS\n",
    "df5 = df4.merge(df3_A, on='FIPS County Code of Geography A', how='inner') \n",
    "df6 = df5.copy(deep=True)\n",
    "df7 = df6.merge(df3_B, on='FIPS County Code of Geography B', how='inner')"
   ]
  },
  {
   "cell_type": "code",
   "execution_count": null,
   "metadata": {
    "scrolled": false
   },
   "outputs": [],
   "source": [
    "#USE THIS sometimes\n",
    "print(list(df7.columns))"
   ]
  },
  {
   "cell_type": "code",
   "execution_count": null,
   "metadata": {},
   "outputs": [],
   "source": [
    "# import pandas as pd\n",
    "# import numpy as np\n",
    "# from pyproj import Geod\n",
    "\n",
    "# wgs84_geod = Geod(ellps='WGS84') \n",
    "\n",
    "# #Get distance between pairs of lat-lon points\n",
    "# def Distance(lat1,lon1,lat2,lon2):\n",
    "#   az12, az21,dist = wgs84_geod.inv(lon1,lat1,lon2,lat2) \n",
    "#   return dist\n",
    "\n",
    "# df7['Distance from A to B'] = Distance(df['INTPTLAT_A'].tolist(),df['INTPTLON_A'] \\\n",
    "#                                       .tolist(),df['INTPTLAT_B'].tolist(),df['INTPTLON_B'].tolist())"
   ]
  },
  {
   "cell_type": "code",
   "execution_count": 16,
   "metadata": {},
   "outputs": [],
   "source": [
    "#USE THIS\n",
    "import math\n",
    "def dist_latlon(rows):\n",
    "    # approximate radius of earth in km\n",
    "    R = 6373.0\n",
    "\n",
    "    latA = rows['INTPTLAT_A']\n",
    "    lonA = rows['INTPTLON_A']\n",
    "    latB = rows['INTPTLAT_B']\n",
    "    lonB = rows['INTPTLON_B']\n",
    "\n",
    "    dlon = lonB - lonA\n",
    "    dlat = latB - latA\n",
    "\n",
    "    a = math.sin(dlat / 2)**2 + math.cos(latA) * math.cos(latB) * math.sin(dlon / 2)**2\n",
    "    c = 2 * math.atan2(math.sqrt(a), math.sqrt(1 - a))\n",
    "\n",
    "    distance = R * c\n",
    "    return distance"
   ]
  },
  {
   "cell_type": "code",
   "execution_count": 17,
   "metadata": {},
   "outputs": [],
   "source": [
    "#USE THIS\n",
    "df7['Distance from A to B'] = df7.apply(dist_latlon, axis=1)"
   ]
  },
  {
   "cell_type": "code",
   "execution_count": null,
   "metadata": {},
   "outputs": [],
   "source": [
    "df7['Distance from A to B'] "
   ]
  },
  {
   "cell_type": "code",
   "execution_count": 25,
   "metadata": {},
   "outputs": [],
   "source": [
    "#USE THIS\n",
    "from sklearn import base\n",
    "\n",
    "class ColumnSelectTransformer(base.BaseEstimator, base.TransformerMixin):\n",
    "    \n",
    "    def __init__(self, col_names):\n",
    "        self.col_names = col_names  \n",
    "    \n",
    "    def fit(self, X, y=None):\n",
    "\n",
    "        return self\n",
    "    \n",
    "    def transform(self, X):\n",
    "        return X[self.col_names]"
   ]
  },
  {
   "cell_type": "code",
   "execution_count": null,
   "metadata": {},
   "outputs": [],
   "source": []
  },
  {
   "cell_type": "code",
   "execution_count": null,
   "metadata": {},
   "outputs": [],
   "source": [
    "arr1 = []\n",
    "for col in cols_no_labels:\n",
    "#     print(col)\n",
    "    print(df7[col])"
   ]
  },
  {
   "cell_type": "code",
   "execution_count": null,
   "metadata": {},
   "outputs": [],
   "source": [
    "cst = ColumnSelectTransformer(cols_no_labels)\n",
    "arr = []\n",
    "sub_arr = []\n",
    "for rows in test_df:\n",
    "    print(test_df[rows])\n",
    "    sub_arr = []\n",
    "#     for col in labels:\n",
    "#     if rows:\n",
    "#         arr.append(test_df[rows])\n",
    "#     else:\n",
    "#         arr.append('None')\n",
    "#     arr.append(sub_arr)\n",
    "print(arr['Net Migration from Geography B to Geography A Estimate'])"
   ]
  },
  {
   "cell_type": "code",
   "execution_count": null,
   "metadata": {},
   "outputs": [],
   "source": [
    "df7[['State Code of Geography A','FIPS County Code of Geography A']]"
   ]
  },
  {
   "cell_type": "code",
   "execution_count": 34,
   "metadata": {},
   "outputs": [],
   "source": [
    "#USE THIS\n",
    "\n",
    "from sklearn.preprocessing import OneHotEncoder\n",
    "one_hot_encoder = OneHotEncoder(sparse=False)\n",
    "convert_dict_new = {'FIPS County Code of Geography A': str, \n",
    "                'FIPS County Code of Geography B': str,\n",
    "               } \n",
    "\n",
    "convert_dict_new = {'State/U.S. Island Area/Foreign Region Code of Geography B': str, \n",
    "                    'FIPS County Code of Geography B': str, \n",
    "               } \n",
    "\n",
    "df8 = df7.dropna().astype(convert_dict_new) \n",
    "\n",
    "\n",
    "# df7[one_hot_labels] = one_hot_encoder.fit_transform(df7[['State Code of Geography A', \n",
    "#                                                          'FIPS County Code of Geography A', \n",
    "#                                                          'State/U.S. Island Area/Foreign Region Code of Geography B', \n",
    "#                                                          'FIPS County Code of Geography B']].values.reshape(-1,1))\n"
   ]
  },
  {
   "cell_type": "code",
   "execution_count": 35,
   "metadata": {},
   "outputs": [],
   "source": [
    "#USE THIS\n",
    "one_hot_labels = ['State/U.S. Island Area/Foreign Region Code of Geography B One Hot', \n",
    "                  'FIPS County Code of Geography B One Hot']\n",
    "\n",
    "original_labels = ['State/U.S. Island Area/Foreign Region Code of Geography B', 'FIPS County Code of Geography B']\n",
    "\n",
    "# # one_hot_labels = ['State Code of Geography A One Hot', 'FIPS County Code of Geography A One Hot', \n",
    "# #          'State/U.S. Island Area/Foreign Region Code of Geography B One Hot', \n",
    "# #          'FIPS County Code of Geography B One Hot']\n",
    "\n",
    "ohe = one_hot_encoder.fit_transform(df8[original_labels]) #.values.reshape(-1,1))\n",
    "ohe_df = pd.DataFrame(ohe)\n",
    "\n",
    "# df8[one_hot_labels] = one_hot_encoder.fit_transform(df8[original_labels]) #.values.reshape(-1,1))\n"
   ]
  },
  {
   "cell_type": "code",
   "execution_count": 53,
   "metadata": {},
   "outputs": [],
   "source": [
    "#USE THIS\n",
    "\n",
    "cols_no_labels = ['Net Migration from Geography B to Geography A Estimate', \n",
    "         '100% Composite Index_x', '13 % Grocery Items_x', '29 % Housing_x', \n",
    "         '10% Utilities_x', '12 % Transportation_x', '4% Health Care_x', \n",
    "         '32 % Miscalaneous Goods and Services_x', \n",
    "         '100% Composite Index_y', '13 % Grocery Items_y', '29 % Housing_y', \n",
    "         '10% Utilities_y', '12 % Transportation_y', '4% Health Care_y', \n",
    "         '32 % Miscalaneous Goods and Services_y', 'Distance from A to B']\n",
    "df9temp = df8[cols_no_labels]"
   ]
  },
  {
   "cell_type": "code",
   "execution_count": 54,
   "metadata": {},
   "outputs": [],
   "source": [
    "#USE THIS\n",
    "df10 = pd.concat([df9temp,ohe_df], axis=1, sort=False)"
   ]
  },
  {
   "cell_type": "code",
   "execution_count": 55,
   "metadata": {},
   "outputs": [
    {
     "data": {
      "text/plain": [
       "0          10453.028553\n",
       "1          11922.555097\n",
       "2          12433.767583\n",
       "3           2535.378920\n",
       "4            285.104978\n",
       "               ...     \n",
       "4178617    15451.587450\n",
       "4178618     3155.875391\n",
       "4178619     6828.855772\n",
       "4178620     6494.677444\n",
       "4178621    14827.983484\n",
       "Name: Distance from A to B, Length: 4178622, dtype: float64"
      ]
     },
     "execution_count": 55,
     "metadata": {},
     "output_type": "execute_result"
    }
   ],
   "source": [
    "df10['Distance from A to B']"
   ]
  },
  {
   "cell_type": "code",
   "execution_count": null,
   "metadata": {},
   "outputs": [],
   "source": [
    "labels = ['State Code of Geography A', 'FIPS County Code of Geography A']\n",
    "y = df9[]"
   ]
  },
  {
   "cell_type": "code",
   "execution_count": 20,
   "metadata": {},
   "outputs": [],
   "source": [
    "#USE THIS not anymore\n",
    "\n",
    "df9 = pd.concat([df8,ohe_df], axis=1, sort=False)"
   ]
  },
  {
   "cell_type": "code",
   "execution_count": null,
   "metadata": {},
   "outputs": [],
   "source": [
    "df9.shape"
   ]
  },
  {
   "cell_type": "code",
   "execution_count": null,
   "metadata": {},
   "outputs": [],
   "source": [
    "ohe_df.shape\n",
    "# df8[one_hot_labels]"
   ]
  },
  {
   "cell_type": "code",
   "execution_count": 56,
   "metadata": {},
   "outputs": [],
   "source": [
    "#USE THIS\n",
    "\n",
    "from sklearn.pipeline import Pipeline\n",
    "from sklearn.model_selection import GridSearchCV\n",
    "from sklearn.neighbors import KNeighborsRegressor\n",
    "\n",
    "full_col_list_no_labels = ['Net Migration from Geography B to Geography A Estimate', 'STATEFP_x', 'NAME_x', 'CBSA_TITLE_x', \n",
    "                 'INTPTLAT_A', 'INTPTLON_A', '100% Composite Index_x', '13 % Grocery Items_x', '29 % Housing_x', \n",
    "                 '10% Utilities_x', '12 % Transportation_x', '4% Health Care_x', \n",
    "                 '32 % Miscalaneous Goods and Services_x', 'STATEFP_y', 'NAME_y', 'CBSA_TITLE_y', \n",
    "                 'INTPTLAT_B', 'INTPTLON_B', '100% Composite Index_y', '13 % Grocery Items_y', '29 % Housing_y', \n",
    "                 '10% Utilities_y', '12 % Transportation_y', '4% Health Care_y', \n",
    "                 '32 % Miscalaneous Goods and Services_y', 'Distance from A to B']\n",
    "\n",
    "labels = ['State Code of Geography A', 'FIPS County Code of Geography A']\n",
    "labels_full = ['State Code of Geography A', 'FIPS County Code of Geography A', \n",
    "         'State/U.S. Island Area/Foreign Region Code of Geography B', \n",
    "         'FIPS County Code of Geography B']\n",
    "\n",
    "full_col_list = ['State Code of Geography A', 'FIPS County Code of Geography A', \n",
    "                 'State Name of Geography A', 'State/U.S. Island Area/Foreign Region Code of Geography B', \n",
    "                 'FIPS County Code of Geography B', 'State/U.S. Island Area/Foreign Region of Geography B', \n",
    "                 'Net Migration from Geography B to Geography A Estimate', 'STATEFP_x', 'NAME_x', 'CBSA_TITLE_x', \n",
    "                 'INTPTLAT_A', 'INTPTLON_A', '100% Composite Index_x', '13 % Grocery Items_x', '29 % Housing_x', \n",
    "                 '10% Utilities_x', '12 % Transportation_x', '4% Health Care_x', \n",
    "                 '32 % Miscalaneous Goods and Services_x', 'STATEFP_y', 'NAME_y', 'CBSA_TITLE_y', \n",
    "                 'INTPTLAT_B', 'INTPTLON_B', '100% Composite Index_y', '13 % Grocery Items_y', '29 % Housing_y', \n",
    "                 '10% Utilities_y', '12 % Transportation_y', '4% Health Care_y', \n",
    "                 '32 % Miscalaneous Goods and Services_y', 'Distance from A to B']\n",
    "\n",
    "cols_no_labels = ['Net Migration from Geography B to Geography A Estimate', \n",
    "         '100% Composite Index_x', '13 % Grocery Items_x', '29 % Housing_x', \n",
    "         '10% Utilities_x', '12 % Transportation_x', '4% Health Care_x', \n",
    "         '32 % Miscalaneous Goods and Services_x', \n",
    "         '100% Composite Index_y', '13 % Grocery Items_y', '29 % Housing_y', \n",
    "         '10% Utilities_y', '12 % Transportation_y', '4% Health Care_y', \n",
    "         '32 % Miscalaneous Goods and Services_y', 'Distance from A to B']\n",
    "cols_no_labels_or_dist = ['Net Migration from Geography B to Geography A Estimate', \n",
    "         '100% Composite Index_x', '13 % Grocery Items_x', '29 % Housing_x', \n",
    "         '10% Utilities_x', '12 % Transportation_x', '4% Health Care_x', \n",
    "         '32 % Miscalaneous Goods and Services_x', \n",
    "         '100% Composite Index_y', '13 % Grocery Items_y', '29 % Housing_y', \n",
    "         '10% Utilities_y', '12 % Transportation_y', '4% Health Care_y', \n",
    "         '32 % Miscalaneous Goods and Services_y']\n",
    "\n",
    "cols = ['State Code of Geography A', 'FIPS County Code of Geography A', \n",
    "         'State/U.S. Island Area/Foreign Region Code of Geography B', \n",
    "         'FIPS County Code of Geography B', \n",
    "         'Net Migration from Geography B to Geography A Estimate', \n",
    "         '100% Composite Index_x', '13 % Grocery Items_x', '29 % Housing_x', \n",
    "         '10% Utilities_x', '12 % Transportation_x', '4% Health Care_x', \n",
    "         '32 % Miscalaneous Goods and Services_x', \n",
    "         '100% Composite Index_y', '13 % Grocery Items_y', '29 % Housing_y', \n",
    "         '10% Utilities_y', '12 % Transportation_y', '4% Health Care_y', \n",
    "         '32 % Miscalaneous Goods and Services_y', 'Distance from A to B']\n",
    "\n",
    "gs = Pipeline([\n",
    "        ('categorical',ColumnSelectTransformer(cols_no_labels_or_dist)),# ColumnSelectTransformer\n",
    "        ('esti',GridSearchCV(KNeighborsRegressor(),{'n_neighbors':[10,20]},cv=5,n_jobs=2))# KNeighborsRegressor\n",
    "    ])"
   ]
  },
  {
   "cell_type": "code",
   "execution_count": 57,
   "metadata": {},
   "outputs": [],
   "source": [
    "#USE THIS\n",
    "\n",
    "from sklearn.model_selection import train_test_split\n",
    "X_train, X_test, y_train, y_test  = train_test_split(df10,df10['Distance from A to B'], test_size=0.33, random_state=42)"
   ]
  },
  {
   "cell_type": "code",
   "execution_count": null,
   "metadata": {},
   "outputs": [],
   "source": [
    "df7[cols_no_labels].shape"
   ]
  },
  {
   "cell_type": "code",
   "execution_count": null,
   "metadata": {},
   "outputs": [],
   "source": [
    "df7[labels].shape"
   ]
  },
  {
   "cell_type": "code",
   "execution_count": null,
   "metadata": {},
   "outputs": [],
   "source": [
    "test_df.shape"
   ]
  },
  {
   "cell_type": "code",
   "execution_count": null,
   "metadata": {},
   "outputs": [],
   "source": [
    "train_labels.shape"
   ]
  },
  {
   "cell_type": "code",
   "execution_count": 58,
   "metadata": {},
   "outputs": [],
   "source": [
    "#USE THIS\n",
    "X_train = X_train.astype(float)"
   ]
  },
  {
   "cell_type": "code",
   "execution_count": 59,
   "metadata": {},
   "outputs": [],
   "source": [
    "#USE THIS\n",
    "y_train = y_train.astype(float)"
   ]
  },
  {
   "cell_type": "code",
   "execution_count": 60,
   "metadata": {},
   "outputs": [],
   "source": [
    "#USE THIS\n",
    "X_test = X_test.astype(float)"
   ]
  },
  {
   "cell_type": "code",
   "execution_count": 61,
   "metadata": {},
   "outputs": [
    {
     "data": {
      "text/plain": [
       "Pipeline(steps=[('categorical',\n",
       "                 ColumnSelectTransformer(col_names=['Net Migration from '\n",
       "                                                    'Geography B to Geography '\n",
       "                                                    'A Estimate',\n",
       "                                                    '100% Composite Index_x',\n",
       "                                                    '13 % Grocery Items_x',\n",
       "                                                    '29 % Housing_x',\n",
       "                                                    '10% Utilities_x',\n",
       "                                                    '12 % Transportation_x',\n",
       "                                                    '4% Health Care_x',\n",
       "                                                    '32 % Miscalaneous Goods '\n",
       "                                                    'and Services_x',\n",
       "                                                    '100% Composite Index_y',\n",
       "                                                    '13 % Grocery Items_y',\n",
       "                                                    '29 % Housing_y',\n",
       "                                                    '10% Utilities_y',\n",
       "                                                    '12 % Transportation_y',\n",
       "                                                    '4% Health Care_y',\n",
       "                                                    '32 % Miscalaneous Goods '\n",
       "                                                    'and Services_y'])),\n",
       "                ('esti',\n",
       "                 GridSearchCV(cv=5, estimator=KNeighborsRegressor(), n_jobs=2,\n",
       "                              param_grid={'n_neighbors': [10, 20]}))])"
      ]
     },
     "execution_count": 61,
     "metadata": {},
     "output_type": "execute_result"
    }
   ],
   "source": [
    "#USE THIS\n",
    "gs.fit(X_train,y_train)"
   ]
  },
  {
   "cell_type": "code",
   "execution_count": 63,
   "metadata": {},
   "outputs": [],
   "source": [
    "#USE THIS\n",
    "p = gs.predict(X_test)"
   ]
  },
  {
   "cell_type": "code",
   "execution_count": 64,
   "metadata": {},
   "outputs": [
    {
     "data": {
      "text/plain": [
       "15169.464446012465"
      ]
     },
     "execution_count": 64,
     "metadata": {},
     "output_type": "execute_result"
    }
   ],
   "source": [
    "p[0]"
   ]
  },
  {
   "cell_type": "code",
   "execution_count": 89,
   "metadata": {},
   "outputs": [],
   "source": [
    "maxs = np.argpartition(p, -5)[-5:]\n",
    "mins = np.argpartition(p, 5)[:5]"
   ]
  },
  {
   "cell_type": "code",
   "execution_count": 90,
   "metadata": {},
   "outputs": [],
   "source": [
    "maxs = list(maxs)\n",
    "mins = list(mins)"
   ]
  },
  {
   "cell_type": "code",
   "execution_count": 95,
   "metadata": {
    "scrolled": true
   },
   "outputs": [],
   "source": [
    "df_max = df8[['CBSA_TITLE_x', 'CBSA_TITLE_y','Distance from A to B']].iloc[maxs]"
   ]
  },
  {
   "cell_type": "code",
   "execution_count": 96,
   "metadata": {},
   "outputs": [],
   "source": [
    "df_min = df8[[ 'CBSA_TITLE_x', 'CBSA_TITLE_y','Distance from A to B']].iloc[mins]"
   ]
  },
  {
   "cell_type": "code",
   "execution_count": 100,
   "metadata": {},
   "outputs": [],
   "source": [
    "def concatenate(rows):\n",
    "    # approximate radius of earth in km\n",
    "    R = 6373.0\n",
    "\n",
    "    name1 = rows['CBSA_TITLE_x']\n",
    "    name2 = rows['CBSA_TITLE_y']\n",
    "    return name1 + ' to ' + name2\n",
    "\n",
    "df_max['Origin to Destination'] = df_max.apply(concatenate, axis=1)\n",
    "df_min['Origin to Destination'] = df_min.apply(concatenate, axis=1)"
   ]
  },
  {
   "cell_type": "code",
   "execution_count": 101,
   "metadata": {
    "scrolled": true
   },
   "outputs": [
    {
     "data": {
      "text/plain": [
       "<AxesSubplot:xlabel='Origin to Destination'>"
      ]
     },
     "execution_count": 101,
     "metadata": {},
     "output_type": "execute_result"
    },
    {
     "data": {
      "image/png": "[encoded data removed]",
      "text/plain": [
       "<Figure size 432x288 with 1 Axes>"
      ]
     },
     "metadata": {},
     "output_type": "display_data"
    }
   ],
   "source": [
    "df_max.plot( x='Origin to Destination', y='Distance from A to B', kind='bar')"
   ]
  },
  {
   "cell_type": "code",
   "execution_count": 102,
   "metadata": {},
   "outputs": [
    {
     "data": {
      "text/plain": [
       "<AxesSubplot:xlabel='Origin to Destination'>"
      ]
     },
     "execution_count": 102,
     "metadata": {},
     "output_type": "execute_result"
    },
    {
     "data": {
      "image/png": "[encoded data removed]",
      "text/plain": [
       "<Figure size 432x288 with 1 Axes>"
      ]
     },
     "metadata": {},
     "output_type": "display_data"
    }
   ],
   "source": [
    "df_min.plot( x='Origin to Destination', y='Distance from A to B', kind='bar')"
   ]
  },
  {
   "cell_type": "code",
   "execution_count": 106,
   "metadata": {},
   "outputs": [],
   "source": [
    "result = pd.concat([df_max, df_min])"
   ]
  },
  {
   "cell_type": "code",
   "execution_count": 107,
   "metadata": {},
   "outputs": [
    {
     "data": {
      "text/html": [
       "<div>\n",
       "<style scoped>\n",
       "    .dataframe tbody tr th:only-of-type {\n",
       "        vertical-align: middle;\n",
       "    }\n",
       "\n",
       "    .dataframe tbody tr th {\n",
       "        vertical-align: top;\n",
       "    }\n",
       "\n",
       "    .dataframe thead th {\n",
       "        text-align: right;\n",
       "    }\n",
       "</style>\n",
       "<table border=\"1\" class=\"dataframe\">\n",
       "  <thead>\n",
       "    <tr style=\"text-align: right;\">\n",
       "      <th></th>\n",
       "      <th>CBSA_TITLE_x</th>\n",
       "      <th>CBSA_TITLE_y</th>\n",
       "      <th>Distance from A to B</th>\n",
       "      <th>Origin to Destination</th>\n",
       "    </tr>\n",
       "  </thead>\n",
       "  <tbody>\n",
       "    <tr>\n",
       "      <th>1054241</th>\n",
       "      <td>Muncie, IN</td>\n",
       "      <td>Rochester, MN</td>\n",
       "      <td>16964.640986</td>\n",
       "      <td>Muncie, IN to Rochester, MN</td>\n",
       "    </tr>\n",
       "    <tr>\n",
       "      <th>230444</th>\n",
       "      <td>Columbia, MO</td>\n",
       "      <td>Charleston, WV</td>\n",
       "      <td>8702.020256</td>\n",
       "      <td>Columbia, MO to Charleston, WV</td>\n",
       "    </tr>\n",
       "    <tr>\n",
       "      <th>840619</th>\n",
       "      <td>Lynchburg, VA</td>\n",
       "      <td>Bozeman, MT</td>\n",
       "      <td>11970.414649</td>\n",
       "      <td>Lynchburg, VA to Bozeman, MT</td>\n",
       "    </tr>\n",
       "    <tr>\n",
       "      <th>462534</th>\n",
       "      <td>Pittsburgh, PA</td>\n",
       "      <td>Charleston, WV</td>\n",
       "      <td>10364.188742</td>\n",
       "      <td>Pittsburgh, PA to Charleston, WV</td>\n",
       "    </tr>\n",
       "    <tr>\n",
       "      <th>1261735</th>\n",
       "      <td>Lawrence, KS</td>\n",
       "      <td>Hays, KS</td>\n",
       "      <td>4180.075784</td>\n",
       "      <td>Lawrence, KS to Hays, KS</td>\n",
       "    </tr>\n",
       "    <tr>\n",
       "      <th>1321970</th>\n",
       "      <td>Peoria, IL</td>\n",
       "      <td>Hays, KS</td>\n",
       "      <td>7416.573098</td>\n",
       "      <td>Peoria, IL to Hays, KS</td>\n",
       "    </tr>\n",
       "    <tr>\n",
       "      <th>92865</th>\n",
       "      <td>Lafayette, LA</td>\n",
       "      <td>Jacksonville, FL</td>\n",
       "      <td>4062.411521</td>\n",
       "      <td>Lafayette, LA to Jacksonville, FL</td>\n",
       "    </tr>\n",
       "    <tr>\n",
       "      <th>132445</th>\n",
       "      <td>Columbia, SC</td>\n",
       "      <td>Pittsburgh, PA</td>\n",
       "      <td>5315.160903</td>\n",
       "      <td>Columbia, SC to Pittsburgh, PA</td>\n",
       "    </tr>\n",
       "    <tr>\n",
       "      <th>103425</th>\n",
       "      <td>Richmond, VA</td>\n",
       "      <td>Jacksonville, FL</td>\n",
       "      <td>6654.890587</td>\n",
       "      <td>Richmond, VA to Jacksonville, FL</td>\n",
       "    </tr>\n",
       "    <tr>\n",
       "      <th>979778</th>\n",
       "      <td>Roswell, NM</td>\n",
       "      <td>Clarksburg, WV</td>\n",
       "      <td>2360.212682</td>\n",
       "      <td>Roswell, NM to Clarksburg, WV</td>\n",
       "    </tr>\n",
       "  </tbody>\n",
       "</table>\n",
       "</div>"
      ],
      "text/plain": [
       "           CBSA_TITLE_x      CBSA_TITLE_y  Distance from A to B  \\\n",
       "1054241      Muncie, IN     Rochester, MN          16964.640986   \n",
       "230444     Columbia, MO    Charleston, WV           8702.020256   \n",
       "840619    Lynchburg, VA       Bozeman, MT          11970.414649   \n",
       "462534   Pittsburgh, PA    Charleston, WV          10364.188742   \n",
       "1261735    Lawrence, KS          Hays, KS           4180.075784   \n",
       "1321970      Peoria, IL          Hays, KS           7416.573098   \n",
       "92865     Lafayette, LA  Jacksonville, FL           4062.411521   \n",
       "132445     Columbia, SC    Pittsburgh, PA           5315.160903   \n",
       "103425     Richmond, VA  Jacksonville, FL           6654.890587   \n",
       "979778      Roswell, NM    Clarksburg, WV           2360.212682   \n",
       "\n",
       "                     Origin to Destination  \n",
       "1054241        Muncie, IN to Rochester, MN  \n",
       "230444      Columbia, MO to Charleston, WV  \n",
       "840619        Lynchburg, VA to Bozeman, MT  \n",
       "462534    Pittsburgh, PA to Charleston, WV  \n",
       "1261735           Lawrence, KS to Hays, KS  \n",
       "1321970             Peoria, IL to Hays, KS  \n",
       "92865    Lafayette, LA to Jacksonville, FL  \n",
       "132445      Columbia, SC to Pittsburgh, PA  \n",
       "103425    Richmond, VA to Jacksonville, FL  \n",
       "979778       Roswell, NM to Clarksburg, WV  "
      ]
     },
     "execution_count": 107,
     "metadata": {},
     "output_type": "execute_result"
    }
   ],
   "source": [
    "result"
   ]
  },
  {
   "cell_type": "code",
   "execution_count": 108,
   "metadata": {},
   "outputs": [
    {
     "data": {
      "text/plain": [
       "<AxesSubplot:xlabel='Origin to Destination'>"
      ]
     },
     "execution_count": 108,
     "metadata": {},
     "output_type": "execute_result"
    },
    {
     "data": {
      "image/png": "[encoded data removed]",
      "text/plain": [
       "<Figure size 432x288 with 1 Axes>"
      ]
     },
     "metadata": {},
     "output_type": "display_data"
    }
   ],
   "source": [
    "result.plot( x='Origin to Destination', y='Distance from A to B', kind='bar')"
   ]
  },
  {
   "cell_type": "markdown",
   "metadata": {},
   "source": [
    "# A Tool for Municipalities\n",
    "## Predict How Far Your Residents Will Move Based Cost of Living\n",
    "Municipalities around the United States wrestle with an ongoing challenge of growth and retention of residents. To this end, I pulled census data that tracks where people file their taxes from year to year. Within these data sets, the files contain calculations of how many people within each county move from one county to every other from 2018 to 2019. The Census also has data of the cost of living of numerour metropolitan statistical areas, known as MSAs, around the country. These are regions centered around population hubs that share economic activity. The data contain parameters capturing the composite index of leading indicators, comprising utility, transportation, housing, grocery, and health care costs. Furthermore, the Census also has separate data sets that tabulate which MSA correspond to each county code in each state as well as centroid latitude and longitude values for each locale. \n",
    "\n",
    "Therefore, I was able to use Pandas dataframes to merge these datasets together. I was able to map the county code of the location citizens lived in 2018 to the corresponding MSA's centroid latitude and longitude. From this MSA location data, I identified the cost of living index for each county in the United States. Similarly, I was able to engineer the same mappings for all counties, latitude, longitudes, and cost of living indeces to which U.S. citizens moved in 2019.\n",
    "\n",
    "With a new table in hand, I could then build a predictive tool determining how far and to which MSA residents were likely to move based on their original residence and the cost of living there. I separated out a training set from the Census data and calculated the distance, in meters between where residence of each county originally lived in 2018 and the county to which they moved in 2019. Using a k nearest neighbor regressor in the SciKit Learn module in pandas, I trained a model to predict how far citizens were likely to move. I then mapped that data to the counties corresponding to those predicted distances in a testing set. \n",
    "\n",
    "From these I am able to plot the farthest and least nearest counties for each county in the training data. I plot these in the graphs above. Tools such as these can help municipalities better understand where their residents might be moving from year to year, where they are likely to move, and how far they are likely to move. With these insights, they can better develop policies that give them comparative advantages over other parts of the United States, particularly as they relate to the cost of living in their area."
   ]
  },
  {
   "cell_type": "code",
   "execution_count": null,
   "metadata": {},
   "outputs": [],
   "source": []
  }
 ],
 "metadata": {
  "kernelspec": {
   "display_name": "Python 3",
   "language": "python",
   "name": "python3"
  },
  "language_info": {
   "codemirror_mode": {
    "name": "ipython",
    "version": 3
   },
   "file_extension": ".py",
   "mimetype": "text/x-python",
   "name": "python",
   "nbconvert_exporter": "python",
   "pygments_lexer": "ipython3",
   "version": "3.6.4"
  }
 },
 "nbformat": 4,
 "nbformat_minor": 2
}
